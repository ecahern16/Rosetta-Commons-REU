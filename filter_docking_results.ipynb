{
 "cells": [
  {
   "cell_type": "code",
   "execution_count": 8,
   "id": "f4a0d945-a28f-4b61-ba5f-8b1cdb995757",
   "metadata": {
    "scrolled": true
   },
   "outputs": [
    {
     "name": "stdout",
     "output_type": "stream",
     "text": [
      "         0        1      2                  3\n",
      "0  st_rmsd     I_sc   Fnat        description\n",
      "1    4.547  -19.752  0.372  binder9_full_0001\n",
      "2    4.950  -32.988  0.567  binder9_full_0010\n",
      "3    5.065  -16.199  0.329  binder9_full_0009\n",
      "4    5.366   -0.406  0.000  binder9_full_0005\n",
      "5    5.596  -20.316  0.301  binder9_full_0008\n",
      "6    5.678  -17.808  0.379  binder9_full_0007\n",
      "7    7.019  -11.685  0.429  binder9_full_0003\n",
      "8    9.058  -20.451  0.431  binder9_full_0006\n",
      "                     pdb                dir_name st_rmsd     I_sc   Fnat\n",
      "4  binder9_full_0010.pdb  docking_outputsr9_full   4.950  -32.988  0.567\n"
     ]
    },
    {
     "data": {
      "text/plain": [
       "'\\ndef main():\\n    scriptname = sys.argv[0]\\n    csv = sys.argv[1]\\n\\n    print(\"Script name:\", scriptname)\\n    print(\"csv:\", csv)\\n    return csv\\n    \\nif __name__ == \"__main__\":\\n    main()\\n\\ncsv = main()\\nmy_result = read_csv(csv_file=csv)\\n'"
      ]
     },
     "execution_count": 8,
     "metadata": {},
     "output_type": "execute_result"
    }
   ],
   "source": [
    "import pandas as pd\n",
    "import sys\n",
    "\n",
    "def read_csv(csv_file):\n",
    "    df = pd.read_csv(csv_file, header=None)\n",
    "    rows = df.shape[0]\n",
    "    print(df)\n",
    "    \n",
    "    best_i_sc = df.loc[1][1]\n",
    "    pdb_name = df.loc[1][3]\n",
    "    st_rmsd = df.loc[1][0]\n",
    "    fnat = df.loc[1][2]\n",
    "    \n",
    "    for i in range(1,int((rows*0.5)+1)):\n",
    "        if df.loc[i][1] > best_i_sc:\n",
    "            best_i_sc = df.loc[i][1]\n",
    "            pdb_name = df.loc[i][3]\n",
    "            st_rmsd = df.loc[i][0]\n",
    "            fnat = df.loc[i][2]\n",
    "\n",
    "        print(i)\n",
    "        print(best_i_sc)\n",
    "    \n",
    "    return best_i_sc, pdb_name, st_rmsd, fnat\n",
    "\n",
    "def add_to_csv(best_i_sc, pdb_name, st_rmsd, fnat):\n",
    "    pdb = pdb_name + '.pdb'\n",
    "    dir_name = 'docking_outputs' + pdb_name[5:-5]\n",
    "    \n",
    "    dataframe = pd.DataFrame(columns = [\"pdb\", \"dir_name\", \"st_rmsd\", \"I_sc\", \"Fnat\"])\n",
    "    dataframe.at[0, \"pdb\"] = pdb\n",
    "    dataframe.at[0, \"dir_name\"] = dir_name\n",
    "    dataframe.at[0, \"st_rmsd\"] = st_rmsd\n",
    "    dataframe.at[0, \"I_sc\"] = best_i_sc\n",
    "    dataframe.at[0, \"Fnat\"] = fnat\n",
    "    print(dataframe)\n",
    "\n",
    "    with open('../dock_dir_names.csv', 'a') as f:\n",
    "        dataframe.to_csv(f, index = False, header='pdb,dir_name,st_rmsd,I_sc,Fnat')\n",
    "\n",
    "#read_csv('./docking_values.csv')\n",
    "\n",
    "def main():\n",
    "    scriptname = sys.argv[0]\n",
    "    csv = sys.argv[1]\n",
    "\n",
    "    print(\"Script name:\", scriptname)\n",
    "    print(\"csv:\", csv)\n",
    "    return csv\n",
    "    \n",
    "if __name__ == \"__main__\":\n",
    "    main()\n",
    "\n",
    "csv = main()\n",
    "my_result = read_csv(csv_file=csv)\n",
    "add_to_csv(my_result[0], my_result[1], my_result[2], my_result[3])"
   ]
  },
  {
   "cell_type": "code",
   "execution_count": null,
   "id": "9191eaf7-3f3f-47c5-ae57-1c3c6b9871d7",
   "metadata": {},
   "outputs": [],
   "source": []
  },
  {
   "cell_type": "code",
   "execution_count": null,
   "id": "97994200-91be-4f1f-83de-48113eb17af9",
   "metadata": {},
   "outputs": [],
   "source": []
  }
 ],
 "metadata": {
  "kernelspec": {
   "display_name": "Python 3 (ipykernel)",
   "language": "python",
   "name": "python3"
  },
  "language_info": {
   "codemirror_mode": {
    "name": "ipython",
    "version": 3
   },
   "file_extension": ".py",
   "mimetype": "text/x-python",
   "name": "python",
   "nbconvert_exporter": "python",
   "pygments_lexer": "ipython3",
   "version": "3.8.16"
  }
 },
 "nbformat": 4,
 "nbformat_minor": 5
}
